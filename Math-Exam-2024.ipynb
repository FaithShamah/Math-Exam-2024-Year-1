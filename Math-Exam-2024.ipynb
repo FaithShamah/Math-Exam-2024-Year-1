{
 "cells": [
  {
   "cell_type": "code",
   "execution_count": 25,
   "id": "c74fa0ba-8602-43f5-9020-48b553fd0649",
   "metadata": {},
   "outputs": [],
   "source": [
    "#2024/DSC/0060/SS"
   ]
  },
  {
   "cell_type": "markdown",
   "id": "dc13c735-3566-454c-a2b8-02b3071ac735",
   "metadata": {},
   "source": [
    "Question 5"
   ]
  },
  {
   "cell_type": "code",
   "execution_count": 1,
   "id": "34b9b245-d048-4abe-a900-862a70870554",
   "metadata": {},
   "outputs": [],
   "source": [
    "import numpy as np\n",
    "import matplotlib.pyplot as plt"
   ]
  },
  {
   "cell_type": "code",
   "execution_count": 6,
   "id": "9572f43c-7543-4449-bc05-d112e1ba23d8",
   "metadata": {},
   "outputs": [
    {
     "name": "stdout",
     "output_type": "stream",
     "text": [
      "[[1.  0.2 0.5]\n",
      " [0.2 1.  0.5]\n",
      " [0.5 0.8 1. ]]\n"
     ]
    }
   ],
   "source": [
    "#i)#Let the matrix be x\n",
    "x = np.array([[1,0.2,0.5],[0.2,1,0.5],[0.5,0.8,1]])\n",
    "print(x)"
   ]
  },
  {
   "cell_type": "code",
   "execution_count": 2,
   "id": "d1171ca9-6fbf-4a35-8fdf-11d95c1857ac",
   "metadata": {},
   "outputs": [
    {
     "data": {
      "text/plain": [
       "array([[1. , 0.2, 0.5],\n",
       "       [0.2, 1. , 0.8],\n",
       "       [0.5, 0.5, 1. ]])"
      ]
     },
     "execution_count": 2,
     "metadata": {},
     "output_type": "execute_result"
    }
   ],
   "source": [
    "x = np.array([[1,0.2,0.5],[0.2,1,0.5],[0.5,0.8,1]])\n",
    "x.T"
   ]
  },
  {
   "cell_type": "code",
   "execution_count": 3,
   "id": "e1e7a262-849a-4a8d-90da-4631ea7132a6",
   "metadata": {},
   "outputs": [],
   "source": [
    "#ii)"
   ]
  },
  {
   "cell_type": "code",
   "execution_count": 4,
   "id": "7ded7a55-e735-406e-8b16-3287f14264e3",
   "metadata": {},
   "outputs": [
    {
     "name": "stdout",
     "output_type": "stream",
     "text": [
      "0.43999999999999995\n"
     ]
    }
   ],
   "source": [
    "determinantx = np.linalg.det(x)\n",
    "print(determinantx)"
   ]
  },
  {
   "cell_type": "code",
   "execution_count": null,
   "id": "e9f5417a-99bf-4e7e-a454-c3ba23a75bdc",
   "metadata": {},
   "outputs": [],
   "source": [
    "#iii)"
   ]
  },
  {
   "cell_type": "code",
   "execution_count": 5,
   "id": "b0bbf393-08b1-4389-bd34-5c72ce641cf6",
   "metadata": {},
   "outputs": [
    {
     "name": "stdout",
     "output_type": "stream",
     "text": [
      "EigResult(eigenvalues=array([1.91240384, 0.8       , 0.28759616]), eigenvectors=array([[-0.49813073, -0.8549646 , -0.43315121],\n",
      "       [-0.49813073,  0.49872935, -0.43315121],\n",
      "       [-0.70974049,  0.1424941 ,  0.79041765]]))\n"
     ]
    }
   ],
   "source": [
    "decomposex = np.linalg.eig(x)\n",
    "print(decomposex)"
   ]
  },
  {
   "cell_type": "code",
   "execution_count": 33,
   "id": "ad3a9a8a-4e79-49ca-ab51-606ce1a90c39",
   "metadata": {},
   "outputs": [
    {
     "name": "stdout",
     "output_type": "stream",
     "text": [
      "174.63103962354458\n"
     ]
    }
   ],
   "source": [
    "import numpy as np\n",
    "import matplotlib.pyplot as plt\n",
    "#iv)\n",
    "#I think transform is one of these two workings\n",
    "transformx = np.linalg.norm(x)\n",
    "print(transformx)"
   ]
  },
  {
   "cell_type": "code",
   "execution_count": 34,
   "id": "8d0f33f9-d95a-4a35-a928-5f8d2bb72838",
   "metadata": {},
   "outputs": [
    {
     "data": {
      "text/plain": [
       "array([ 2,  3,  7,  4,  2,  5,  9,  1,  7,  9,  5,  7,  7,  2,  3,  5, 10,\n",
       "        4,  7,  8,  6,  3,  5,  2,  5,  6,  4,  6,  9,  9, 10,  6,  2,  2,\n",
       "        8,  6,  8,  3,  6,  3,  7,  4,  7,  5,  6,  5,  5,  6,  6,  8,  7,\n",
       "        9,  2,  5,  4,  8,  6,  2,  5,  8,  3,  5, 11,  3,  4,  6,  3,  6,\n",
       "       10,  3,  7,  8,  7,  9,  3,  8,  4,  6,  7,  4,  6,  4,  6,  3,  4,\n",
       "        2,  8,  2,  4,  3,  4,  4,  5,  1,  6,  6,  6, 10,  5,  3,  4,  2,\n",
       "        4,  6,  8,  6,  3,  6,  4,  9,  5,  3,  1,  7,  4, 11,  3,  6,  6,\n",
       "        2,  7,  8,  6,  4,  7,  2,  7,  5,  7,  9,  9,  4,  7,  4,  5,  4,\n",
       "        2,  8,  6,  2,  2,  1,  7,  3,  6,  8,  6,  3,  5,  3,  3,  6,  5,\n",
       "        6,  3,  5,  4,  5,  7,  6,  2,  6,  4,  4,  6,  3,  2,  4,  3,  4,\n",
       "        9,  7,  1,  3,  4,  7,  4, 10,  4,  6,  9,  4,  9,  2,  4,  1,  6,\n",
       "        2,  2,  2,  6,  8,  6,  3,  8,  4,  4,  3,  7,  4,  9,  2,  7,  4,\n",
       "        6,  7,  7,  4,  2,  3,  6,  2,  6,  4,  6,  2,  5,  3,  6,  6,  5,\n",
       "       10,  5,  4,  6,  3,  3,  5,  3,  9,  3,  4,  3,  7,  6,  1,  6,  4,\n",
       "        6,  6,  5,  5, 10,  2,  4,  9,  7,  8,  4,  4,  3, 10,  6,  2,  5,\n",
       "        6,  3,  4,  5,  6,  7,  6,  9,  3,  4,  6,  4,  7,  5,  7,  6,  3,\n",
       "        7,  4,  3,  8,  4,  9,  5,  3,  9, 10,  3,  3, 10,  4,  4,  6,  3,\n",
       "        5,  4,  4,  7,  4,  8,  9,  4,  4,  3,  5,  3,  6,  3,  7,  5,  6,\n",
       "        8,  6,  6,  4,  5,  6,  6,  2,  5,  1,  6,  2,  8,  7,  4,  8,  6,\n",
       "        5,  7,  3,  4,  2,  3,  2,  2,  7,  5,  6,  8,  4,  8,  3,  6,  7,\n",
       "        3,  6,  2,  7,  4,  4,  4,  5,  5,  4,  5,  4, 13,  3,  3,  5,  5,\n",
       "        5,  3,  5,  4,  9,  4,  7, 10,  7,  9,  5,  7,  7,  4,  4,  3,  6,\n",
       "        4,  3,  6,  3,  6,  7,  4,  4,  3,  1,  9,  3,  3,  4,  6,  7,  5,\n",
       "        4,  6,  4,  5,  6,  3,  3,  4,  4,  4,  7,  5,  1,  3,  7,  6,  7,\n",
       "        4,  3,  2,  5,  3,  6, 10,  4,  3,  5,  6,  6,  7,  6,  5,  1,  6,\n",
       "        6,  6,  5,  7,  5,  7,  4,  2,  2,  5,  5,  7,  4,  2,  2,  3,  3,\n",
       "        3,  7, 10,  1,  6,  2,  7,  4,  6,  6,  5,  3,  8,  4,  2,  7,  2,\n",
       "        4,  4,  5,  2,  7,  3,  5,  4,  4,  6,  5,  6,  4,  6,  6,  5,  7,\n",
       "        1,  2,  3,  3,  3,  4,  4,  5,  2,  7, 10,  2,  8, 12,  8,  4,  2,\n",
       "        2,  7,  7,  5,  6,  5,  7,  1,  3,  5,  5,  0,  6,  3,  3,  3,  4,\n",
       "        2,  3,  6,  7,  5,  3,  4,  3,  7,  5,  6,  3,  7,  2,  6,  8,  2,\n",
       "        7,  7,  2,  7,  5,  4,  2,  3,  3,  4,  6,  4,  8,  2,  4,  7,  4,\n",
       "        7,  6,  8,  4, 10,  2,  4,  6,  5,  9,  6,  3,  4,  7,  5,  2,  2,\n",
       "        7, 11,  3,  5,  5,  4,  3,  7,  3,  7,  4,  6,  5,  6,  7,  4,  5,\n",
       "        7,  7,  8,  6,  5,  7,  6,  6,  7,  8,  3,  2,  5, 12,  3,  3,  6,\n",
       "        4,  7,  3,  5,  4,  5,  2,  4,  5,  4,  6,  6,  7,  6,  3,  6,  6,\n",
       "        3,  5,  3,  1,  4,  7,  4,  2,  5, 10,  7,  4,  3,  6,  3,  1,  6,\n",
       "        7,  7,  4,  8,  5,  8,  7,  2,  5,  4,  9,  5,  4,  2,  7,  4,  6,\n",
       "        4,  9,  6,  6,  6,  8,  4,  8,  4,  1,  7,  5,  5,  9,  6,  6,  9,\n",
       "        8,  7, 10,  8,  5,  7,  1,  5,  5,  5,  4,  1,  3,  6,  5,  7,  3,\n",
       "        5,  3,  8,  2,  1,  2,  3,  6,  5,  8,  5,  9,  6,  9, 10,  8,  7,\n",
       "        5,  4,  4,  4,  5,  4,  7,  5,  4,  4,  3,  3,  1,  7,  6,  5,  9,\n",
       "        3,  4,  6,  4,  6,  1,  4,  5,  5,  7,  5,  5,  2,  4,  8, 11,  6,\n",
       "        6,  5,  4,  8,  7,  6,  4,  6,  5,  5,  5,  3,  5,  3,  6,  2,  2,\n",
       "        3,  4, 11,  6,  6,  5,  5,  5,  3,  7, 11,  2,  4,  5,  6,  4,  8,\n",
       "        6,  4,  5,  3,  3,  6,  2,  5,  4,  2,  9,  4,  8,  9,  6,  4,  4,\n",
       "        5,  5,  9,  7,  2,  1,  7,  7,  1,  2,  5,  3,  3,  6,  3,  4,  3,\n",
       "        3,  8,  4,  3,  5, 11,  4,  7,  6,  2,  2,  7,  3,  6,  4,  3,  6,\n",
       "        3,  4,  1,  5,  8,  4,  7, 10,  7,  2,  6,  5,  7,  4,  7,  4,  5,\n",
       "        9,  5,  3,  6,  6,  6,  6,  6,  6,  4,  5,  6,  7,  1,  4,  7,  5,\n",
       "        6,  8,  8,  3,  4,  8,  2,  6,  5,  9,  5,  3,  6,  3,  4,  7,  5,\n",
       "        4,  7,  3,  0,  7,  6,  3,  5,  6,  9,  6,  6,  5,  6,  3,  4,  5,\n",
       "        2,  1,  6,  7,  9,  7,  2,  4,  2,  4,  7,  3,  2,  7,  3,  2,  3,\n",
       "        4,  5,  7,  6,  3,  2,  6,  6,  6,  5,  6,  2,  4,  5,  6,  6,  6,\n",
       "        7,  3,  6,  2,  4,  2,  8,  8,  2,  2,  5,  4,  6,  6,  7,  5,  5,\n",
       "        4,  6,  6,  4,  5,  5,  7,  8,  7,  4,  2,  7,  4,  4,  5,  2,  3,\n",
       "        6,  3,  8,  5,  5,  4,  7,  9,  9,  6,  5,  5,  7,  8,  4,  4,  6,\n",
       "        4,  2,  4,  9,  8,  2,  2,  3,  7,  8,  4,  4,  3,  3,  9,  1,  6,\n",
       "        7,  5,  5,  2,  5,  8,  5,  6,  5,  7,  3,  7,  4,  6],\n",
       "      dtype=int32)"
      ]
     },
     "execution_count": 34,
     "metadata": {},
     "output_type": "execute_result"
    }
   ],
   "source": [
    "x.T"
   ]
  },
  {
   "cell_type": "markdown",
   "id": "8f1eba73-402a-4815-8ec5-5cc077193ade",
   "metadata": {},
   "source": [
    "Question 6"
   ]
  },
  {
   "cell_type": "code",
   "execution_count": 22,
   "id": "32fd0754-1ade-4be9-8845-8ba1f43fa385",
   "metadata": {},
   "outputs": [
    {
     "name": "stdout",
     "output_type": "stream",
     "text": [
      "[ 9  4  4  5  4  4  6  2  3  6  4  4  3  5  4  8  5  5  6  9  3 10  2  1\n",
      "  4  5  1 12  6  6  5  8  7 12  4  7  6  3  2  3  9  6 12  3  4  5  4  4\n",
      "  4  8  2  7  4  4  4  4  5  8  8  6  9  6  2 10  9  6  2  2  5  5  3  4\n",
      "  4  3  6  6  5  9  4  3  3  7  5  5  6  7  3  4  6  5  4  7  1  5  5  5\n",
      "  1  2  5  3  1  4  5  5  4  5  9 11  3  8  4  6  4 10  6  2  7  6  7  1\n",
      "  1  3  9  6  4  2  5  8  6  6 10  4  5  4  7  7  6  2  6  3  4  4  8  2\n",
      "  4  8  7  2  6  6  3  1  4  8  5  1  7  2  6  8  5  4 12  4  1  5  5 10\n",
      "  3  8  3  4  9  4  7  5  3  9  1  7  3  2  2  1  6  4  3  4  4  5  9  6\n",
      "  7  1  6  4  4  3  2  4  4  2  3  4  6  7  5  3  7  3  4  5  5  7  3  3\n",
      "  6  6  5  1  5  9  6  4  2 10  3  3  6  4  0  6  7  6  3  6  4  1  9  5\n",
      "  5  5  5  5  5  4  4  6  2  3  5  4  8  6  4  5  8 10  5  2  7  4  6  2\n",
      "  3  5  7  4  7  8  5  4  4  5  4  6  7  3  2  5  6  6  5  6  6  1  3  6\n",
      "  6  4  2  5  4  6  6  4  8  6  2  4  7  7  2  4  4  9  6  5  4  7  4  2\n",
      "  2  4  5  5  4  6  6  4 10  7  8  7  2  4 10  3  6  0  9  8  4  6  3  4\n",
      "  8  7  5  3  0  6  3  4  1  5  3  4  2  9  6  9  9  3  2  1  8  2  8  5\n",
      "  4  5  4  6  5  2  2  7  5  3  4  5  4  5  2  5  2  1  8  3  3  7  5  3\n",
      "  7  6  5  3  6  3  5  5  3  4  2  7  5  3  5  3  5  2  5  6  5  6  6  6\n",
      "  7  2  4  2  0  7  8 10  3  3  6  3  4  5  6  1  6  8  7  6  3  5  4  3\n",
      "  6  6 11  7  8  6  9  3  5  5 10  7  3  8  4  4  4  6  1  4  6  3  8  7\n",
      "  3  3  5  2  6  2  2 10  5 10  2  8  1  3  1  2  4  6  6  4  3  6  5  5\n",
      "  6  9  3  6  4  5  4  5  6  6  1  5  7  8 13  7  8  4  5  9  2  5  4  6\n",
      "  7  5  3  4  3  2  2  4  5  4  4  4  3 13  6  4  5  6  8  4  4  8  3  6\n",
      "  9  4  0  9  7  6  5  7  8  6  0  7  4 10  6  5  1  2  8 12  2  7  4  3\n",
      "  4  4  2  4  3  2  7  4  2  2  6  6  2  6  6  3  4  2  9  2  4  6  8  5\n",
      "  8  4  6  6  3  5  6  6 10  7  6  4  2  8  4  5  2  7  1  4  6  5  1  4\n",
      "  5  9  7  4  6  4 10  5  0  6  4  4  5  8  5  3  4  6  6  4  3  3  3  7\n",
      "  6  2  9  5  5  8  7  4  8  3  9  2  8  7  4  8  7  3  2  4  4  7  3  3\n",
      "  5  4  5  4  7  4  5  4  3  8  6  6  5  2  3  5  6  5  1  3  3  3  5 11\n",
      "  8  5  5  9  2  7  8  7  7  5 10  4  4  5  5  5  2  5  7  2  4  6  3 10\n",
      "  7  5  5  5  3  8  3  5  7  4  5  6  4  9  7  3  2  7  5  7  4  7  4  6\n",
      "  6  8  1  6 10  6 10  3  0  4  2  3  5  5  5 11  4  2  9  2  6  4  9  6\n",
      "  4  0  2  5  6  6  1  4  4  8  8  8  4  4  2  4  3  4  5 10  2  5  7  3\n",
      "  3  2  3  6  3  5  6  5  6  2  3  4  7  2  3  6  3  3  6  3  5  8  2  3\n",
      "  6  3  6  2  5  6  2  7  9  6  4  8  4  3  1  2  8  7  7  5  2  5  7  8\n",
      "  4  4  5  8  4  5  6  6  6  6  2  5  6  3  3  8  3  5  5  3  6  6  6  6\n",
      "  8  5  4  3  6  6  7  4  5  4  3  3  7  6  3  1  5  2  9  7  4  2  6  8\n",
      "  9  3  6  5  7  6  6  6  6  4  4  1  8  3  1  3  4  4  7  2  5  4  4  5\n",
      "  4  3  4  6  4  5  2  5  2  5  5  3  6  0  6  5  3  5  9  4  4  6  6  4\n",
      "  2  6  4  3  6  6  7  3  6  9  7  5  5  6  8  4  9  0  6  3  6  8  4  6\n",
      "  8  7  7  7  4  7  4  2  5  7  6  6  3  6  5  6  7  5  5  3  1  4  8  2\n",
      "  3  6  5  7  2  2  7  4  8  6  3  4  9  7  1  7  7  6  7  5  2  6  5  1\n",
      "  6  4  3  6  5  8  3  6  3  9  3  8  5  4  4  3]\n"
     ]
    }
   ],
   "source": [
    "#i)\n",
    "#Let the variable be p\n",
    "from numpy import random\n",
    "p = random.poisson(lam=5,size=1000)\n",
    "print(p)"
   ]
  },
  {
   "cell_type": "code",
   "execution_count": 35,
   "id": "9ef36eee-2b2c-43d2-aa9d-7d268e58aa5e",
   "metadata": {},
   "outputs": [],
   "source": [
    "#ii)"
   ]
  },
  {
   "cell_type": "code",
   "execution_count": 23,
   "id": "f0bf7d3b-e963-4d76-92c6-3a765c04ccc6",
   "metadata": {},
   "outputs": [
    {
     "name": "stdout",
     "output_type": "stream",
     "text": [
      "4.967\n"
     ]
    }
   ],
   "source": [
    "p_mean=np.mean(p)\n",
    "print(p_mean)"
   ]
  },
  {
   "cell_type": "code",
   "execution_count": 24,
   "id": "50813ebd-628f-4a06-aaef-78ed3a3d6a0b",
   "metadata": {},
   "outputs": [
    {
     "name": "stdout",
     "output_type": "stream",
     "text": [
      "5.183911\n"
     ]
    }
   ],
   "source": [
    "p_var=np.var(p)\n",
    "print(p_var)"
   ]
  },
  {
   "cell_type": "code",
   "execution_count": 36,
   "id": "1bf8b062-7b83-4c45-9268-97711bed779c",
   "metadata": {},
   "outputs": [],
   "source": [
    "#iii)"
   ]
  },
  {
   "cell_type": "code",
   "execution_count": 37,
   "id": "12063d99-00a0-4adf-a4d0-2bdc78fa9cbd",
   "metadata": {},
   "outputs": [],
   "source": [
    "import seaborn as sns"
   ]
  },
  {
   "cell_type": "code",
   "execution_count": 30,
   "id": "f8d99f7e-cb64-4550-95a0-a72df05f0e4d",
   "metadata": {},
   "outputs": [
    {
     "data": {
      "image/png": "[encoded data removed]",
      "text/plain": [
       "<Figure size 640x480 with 1 Axes>"
      ]
     },
     "metadata": {},
     "output_type": "display_data"
    }
   ],
   "source": [
    "poisson_data = random.poisson(lam=5,size=1000)\n",
    "sns.histplot(poisson_data,label='poisson',color='purple')\n",
    "plt.xlabel('number of customer arrivals')\n",
    "plt.ylabel('average')\n",
    "plt.title('HISTOGRAM OF SAMPLES TO VISUALIZE DISTRIBUTION')\n",
    "plt.show()"
   ]
  },
  {
   "cell_type": "code",
   "execution_count": null,
   "id": "5c76b287-9dc2-4777-ae14-03e72000199e",
   "metadata": {},
   "outputs": [],
   "source": []
  }
 ],
 "metadata": {
  "kernelspec": {
   "display_name": "Python 3 (ipykernel)",
   "language": "python",
   "name": "python3"
  },
  "language_info": {
   "codemirror_mode": {
    "name": "ipython",
    "version": 3
   },
   "file_extension": ".py",
   "mimetype": "text/x-python",
   "name": "python",
   "nbconvert_exporter": "python",
   "pygments_lexer": "ipython3",
   "version": "3.12.5"
  }
 },
 "nbformat": 4,
 "nbformat_minor": 5
}
